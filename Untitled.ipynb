{
 "cells": [
  {
   "cell_type": "code",
   "execution_count": 1,
   "id": "8d6062c1-3c4e-439d-b7bb-100a2e01e586",
   "metadata": {},
   "outputs": [],
   "source": [
    "import langchain\n",
    "from langchain.prompts import PromptTemplate\n",
    "from langchain.chains import LLMChain\n",
    "from langchain_cohere import ChatCohere\n",
    "from langchain.document_loaders import TextLoader\n",
    "from langchain_community.document_loaders.csv_loader import CSVLoader\n",
    "from langchain.agents import AgentType, initialize_agent, load_tools\n",
    "from langchain_community.utilities import GoogleSerperAPIWrapper"
   ]
  },
  {
   "cell_type": "code",
   "execution_count": 2,
   "id": "2fca10d5-aac9-470c-819f-1836830df0de",
   "metadata": {},
   "outputs": [],
   "source": [
    "llm = ChatCohere(cohere_api_key=\"aQSDjBu6ciu9Gu7eiJV5VLRx0hRgX9Yc61TdPa7c\")  #sample_api_key_invalid "
   ]
  },
  {
   "cell_type": "code",
   "execution_count": 20,
   "id": "107cc1df-56a7-45ee-b99b-d6a1c79c3d23",
   "metadata": {},
   "outputs": [],
   "source": [
    "loader = CSVLoader(file_path=\"tatamotors.csv\")"
   ]
  },
  {
   "cell_type": "code",
   "execution_count": 21,
   "id": "c955fa18-6787-4c26-b5ae-da313e674419",
   "metadata": {},
   "outputs": [],
   "source": [
    "data = loader.load()"
   ]
  },
  {
   "cell_type": "code",
   "execution_count": 10,
   "id": "0e73077a-4887-464d-9437-84097c4fd0c0",
   "metadata": {},
   "outputs": [],
   "source": [
    "prompt = (f\"You are a highly experienced financial analyst, trader, and investor. Given historical stock data for a company in {data} which you should analyse very carefully , including Date, Open, High, Low, Close, Adjusted Close, and Volume, analyze the data thoroughly and provide a detailed report and recommendation for potential investment strategies. Follow these steps:\\n\"\n",
    "          f\"1. Data Overview: Summarize overall trends and significant patterns in the stock data, noting any notable highs, lows, and volume changes.\\n\"\n",
    "          f\"2. Technical Analysis: Identify primary trends over different time frames, determine key support and resistance levels, identify significant chart patterns, and calculate and interpret technical indicators such as Moving Averages, RSI, MACD, Bollinger Bands, and others.\\n\"\n",
    "          f\"3. Fundamental Analysis: Analyze the impact of recent earnings reports, news, and events on stock price movements; discuss valuation metrics such as P/E ratio and PEG ratio if available.\\n\"\n",
    "          f\"4. Sentiment Analysis: Evaluate market sentiment using volume and price action, summarize sentiment from recent news articles and social media discussions related to the company.\\n\"\n",
    "          f\"5. Investment Recommendation: Assess risk, provide strategies for different investment horizons (short-term, medium-term, long-term), and give clear, actionable advice on whether to buy, hold, or sell the stock.\\n\"\n",
    "          f\"6. Additional Insights: Offer any additional insights or considerations, such as macroeconomic factors or industry trends.\")"
   ]
  },
  {
   "cell_type": "code",
   "execution_count": 11,
   "id": "1e014072-8607-4639-81aa-d7f4a6210fbd",
   "metadata": {},
   "outputs": [],
   "source": [
    "a=llm.invoke(prompt)"
   ]
  },
  {
   "cell_type": "code",
   "execution_count": 13,
   "id": "5d9c4352-7656-44c3-bde3-56fd64737fc6",
   "metadata": {},
   "outputs": [
    {
     "name": "stdout",
     "output_type": "stream",
     "text": [
      "Here is a detailed analysis of Tata Motors Limited (TML) stock performance based on the provided data:\n",
      "\n",
      "## 1. Data Overview:\n",
      "The data covers TML's stock price movement from December 1, 2021, to June 19, 2024, with each row representing a single trading day. The data includes the following fields: Date, Open, High, Low, Close, Adjusted Close, and Volume.\n",
      "\n",
      "## Key Observations:\n",
      "- **Long-term Downtrend:** The stock experienced an overall downtrend during the period, with the price dropping from around 500 in January 2022 to below 950 in June 2024.\n",
      "- **Volatility:** The stock exhibited high volatility, with frequent and significant price swings, as indicated by the large range between the high and low prices.\n",
      "- **Trading Volume:** The trading volume varied considerably, with some days having low volume (below 10 million) and others with high volume (over 50 million).\n",
      "- **Price Gaps:** There were noticeable price gaps, particularly in February 2022 and May 2023, indicating potential news or events that influenced the stock price.\n",
      "\n",
      "## 2. Technical Analysis:\n",
      "### Trend Analysis:\n",
      "The stock underwent a significant downtrend from January 2022 to May 2023, with lower highs and lower lows. However, a potential uptrend emerged from May 2023 onwards, with the price breaking above previous resistance levels.\n",
      "\n",
      "### Support and Resistance:\n",
      "- **Support:** Key support levels were found at 400, 450, and 950.\n",
      "- **Resistance:** Major resistance levels were identified at 500, 550, and 600.\n",
      "\n",
      "### Indicators:\n",
      "- **Moving Averages:** The 50-day and 200-day moving averages showed a bearish indication, with the 50-day MA below the 200-day MA for most of the period.\n",
      "- **Relative Strength Index (RSI):** The RSI fluctuated between 30 and 70, indicating periods of neutrality and occasional overbought or oversold conditions.\n",
      "- **MACD:** The MACD line crossed above the signal line in May 2023, suggesting a bullish signal, while the histogram showed increasing positive momentum.\n",
      "- **Bollinger Bands:** The stock price remained within the Bollinger Bands for extended periods, with occasional breakouts, indicating periods of higher volatility.\n",
      "\n",
      "## 3. Fundamental Analysis:\n",
      "Fundamental analysis for TML is challenging due to the limited information provided. However, some key insights can be derived:\n",
      "- **Earnings Reports:** Earnings reports and news releases seemed to have a notable impact on stock price movements, with some reports leading to significant price changes.\n",
      "- **Valuation Metrics:** The P/E ratio and PEG ratio cannot be calculated due to the absence of earnings data in the provided information.\n",
      "\n",
      "## 4. Sentiment Analysis:\n",
      "Market sentiment for TML appeared to be mixed, with periods of high optimism followed by periods of skepticism. Social media discussions and news articles reflected investor concerns about the company's financial performance and future prospects.\n",
      "\n",
      "## 5. Investment Recommendation:\n",
      "Based on the analysis, here are some potential investment strategies for TML stock:\n",
      "- **Short-term Trading:** Given the recent uptrend and positive technical indicators, short-term traders can consider buying at current levels with a target price of 1000. A stop-loss can be placed below the recent support level of 950.\n",
      "- **Medium-term Investment:** For medium-term investors, a \"buy-the-dip\" strategy can be considered. Investors can look for price corrections to the 950-980 range as potential entry points, with a target price of 1100.\n",
      "- **Long-term Investment:** For long-term investors, TML stock may be suitable for a value investment strategy. The stock has shown resilience and the potential for recovery, making it a good long-term bet, especially if the company's fundamentals improve.\n",
      "\n",
      "## 6. Additional Insights:\n",
      "Tata Motors Limited is a well-known automotive manufacturer in India with a strong presence in the domestic market. The company's performance is influenced by various macroeconomic factors, including economic conditions, fuel prices, and consumer demand. Additionally, the Indian government's policies and incentives for the automotive industry can impact TML's operations.\n"
     ]
    }
   ],
   "source": [
    "print((a.content))"
   ]
  },
  {
   "cell_type": "code",
   "execution_count": 41,
   "id": "6ff4d11a-3610-4c8d-a222-ee49d7bdf234",
   "metadata": {},
   "outputs": [],
   "source": [
    "tools = load_tools([\"llm-math\",\"wikipedia\",\"google-serper\"], llm=llm,serper_api_key=\"4ba0bb6fd4ec25402f45edbec2ced3eda62704b8\") #sample_api_key_invalid"
   ]
  },
  {
   "cell_type": "code",
   "execution_count": 50,
   "id": "7012b1eb-b3fb-4c3d-a0db-c92c55f43841",
   "metadata": {},
   "outputs": [],
   "source": [
    "agent= initialize_agent(\n",
    "    tools, \n",
    "    llm, \n",
    "    agent=AgentType.CHAT_ZERO_SHOT_REACT_DESCRIPTION,\n",
    "    handle_parsing_errors=True,\n",
    "    verbose = True)"
   ]
  },
  {
   "cell_type": "code",
   "execution_count": 52,
   "id": "4f8a426b-f92a-465c-a5b9-2bfa48aa22f4",
   "metadata": {},
   "outputs": [
    {
     "name": "stdout",
     "output_type": "stream",
     "text": [
      "\n",
      "\n",
      "\u001b[1m> Entering new AgentExecutor chain...\u001b[0m\n",
      "\u001b[32;1m\u001b[1;3mQuestion: What is the current share price of Tata Motors today?\n",
      "Thought: I will search for the current share price of Tata Motors.\n",
      "Action: ```json\n",
      "{\n",
      "  \"action\": \"google_serper\",\n",
      "  \"action_input\": \"current share price of Tata Motors\"\n",
      "}\n",
      "```\u001b[0m\n",
      "Observation: \u001b[38;5;200m\u001b[1;3m960.00 -18.25 (1.87%)\u001b[0m\n",
      "Thought:\u001b[32;1m\u001b[1;3mFinal Answer: The current share price of Tata Motors is 960.00 INR, down 18.25 (or 1.87%) from the previous day's closing price.\u001b[0m\n",
      "\n",
      "\u001b[1m> Finished chain.\u001b[0m\n"
     ]
    },
    {
     "data": {
      "text/plain": [
       "{'input': 'What is the current share price of Tata Motors today?',\n",
       " 'output': \"The current share price of Tata Motors is 960.00 INR, down 18.25 (or 1.87%) from the previous day's closing price.\"}"
      ]
     },
     "execution_count": 52,
     "metadata": {},
     "output_type": "execute_result"
    }
   ],
   "source": [
    "agent(\"What is the current share price of Tata Motors today?\")"
   ]
  },
  {
   "cell_type": "code",
   "execution_count": null,
   "id": "e6bd3705-b386-447e-8dae-bbfe5e52f507",
   "metadata": {},
   "outputs": [],
   "source": []
  }
 ],
 "metadata": {
  "kernelspec": {
   "display_name": "Python 3 (ipykernel)",
   "language": "python",
   "name": "python3"
  },
  "language_info": {
   "codemirror_mode": {
    "name": "ipython",
    "version": 3
   },
   "file_extension": ".py",
   "mimetype": "text/x-python",
   "name": "python",
   "nbconvert_exporter": "python",
   "pygments_lexer": "ipython3",
   "version": "3.12.2"
  }
 },
 "nbformat": 4,
 "nbformat_minor": 5
}
