{
 "cells": [
  {
   "cell_type": "code",
   "execution_count": 47,
   "id": "8d6062c1-3c4e-439d-b7bb-100a2e01e586",
   "metadata": {},
   "outputs": [],
   "source": [
    "import langchain\n",
    "from langchain.prompts import PromptTemplate\n",
    "from langchain.chains import LLMChain\n",
    "from langchain_cohere import ChatCohere\n",
    "from langchain.document_loaders import TextLoader\n",
    "from langchain_community.document_loaders.csv_loader import CSVLoader\n",
    "from langchain.agents import AgentType, initialize_agent, load_tools, tool\n",
    "from langchain_community.utilities import GoogleSerperAPIWrapper\n",
    "from modulwa import output_str, df3"
   ]
  },
  {
   "cell_type": "code",
   "execution_count": 6,
   "id": "2fca10d5-aac9-470c-819f-1836830df0de",
   "metadata": {},
   "outputs": [],
   "source": [
    "llm = ChatCohere(cohere_api_key=\"xO5gte6wit8GKd7tTM0cIoaLpH5CTzOyuEgnlVjP\")  #sample_api_key_INVALID(including previous commits) "
   ]
  },
  {
   "cell_type": "code",
   "execution_count": 7,
   "id": "107cc1df-56a7-45ee-b99b-d6a1c79c3d23",
   "metadata": {},
   "outputs": [],
   "source": [
    "loader = CSVLoader(file_path=\"tatamotors.csv\")"
   ]
  },
  {
   "cell_type": "code",
   "execution_count": 8,
   "id": "c955fa18-6787-4c26-b5ae-da313e674419",
   "metadata": {},
   "outputs": [],
   "source": [
    "data = loader.load()"
   ]
  },
  {
   "cell_type": "code",
   "execution_count": 10,
   "id": "0e73077a-4887-464d-9437-84097c4fd0c0",
   "metadata": {},
   "outputs": [],
   "source": [
    "prompt = (f\"You are a highly experienced financial analyst, trader, and investor. Given historical stock data for a company in {data} which you should analyse very carefully , including Date, Open, High, Low, Close, Adjusted Close, and Volume, analyze the data thoroughly and provide a detailed report and recommendation for potential investment strategies. Follow these steps:\\n\"\n",
    "          f\"1. Data Overview: Summarize overall trends and significant patterns in the stock data, noting any notable highs, lows, and volume changes.\\n\"\n",
    "          f\"2. Technical Analysis: Identify primary trends over different time frames, determine key support and resistance levels, identify significant chart patterns, and calculate and interpret technical indicators such as Moving Averages, RSI, MACD, Bollinger Bands, and others.\\n\"\n",
    "          f\"3. Fundamental Analysis: Analyze the impact of recent earnings reports, news, and events on stock price movements; discuss valuation metrics such as P/E ratio and PEG ratio if available.\\n\"\n",
    "          f\"4. Sentiment Analysis: Evaluate market sentiment using volume and price action, summarize sentiment from recent news articles and social media discussions related to the company.\\n\"\n",
    "          f\"5. Investment Recommendation: Assess risk, provide strategies for different investment horizons (short-term, medium-term, long-term), and give clear, actionable advice on whether to buy, hold, or sell the stock.\\n\"\n",
    "          f\"6. Additional Insights: Offer any additional insights or considerations, such as macroeconomic factors or industry trends.\")"
   ]
  },
  {
   "cell_type": "code",
   "execution_count": 11,
   "id": "1e014072-8607-4639-81aa-d7f4a6210fbd",
   "metadata": {},
   "outputs": [],
   "source": [
    "a=llm.invoke(prompt)"
   ]
  },
  {
   "cell_type": "code",
   "execution_count": 12,
   "id": "5d9c4352-7656-44c3-bde3-56fd64737fc6",
   "metadata": {},
   "outputs": [
    {
     "name": "stdout",
     "output_type": "stream",
     "text": [
      "Here is a detailed analysis of Tata Motors Limited (TML) stock performance based on the provided data:\n",
      "\n",
      "**Data Overview:**\n",
      "The data covers TML's stock price movement from December 1, 2021, to June 19, 2024, with each row representing a single trading day. The data includes the following fields: Date, Open, High, Low, Close, Adjusted Close, and Volume. The stock price is in Indian Rupees (INR).\n",
      "\n",
      "**Overall Trends and Patterns:**\n",
      "- TML's stock price exhibited high volatility during the period, with significant fluctuations and no clear long-term trend.\n",
      "- The stock reached its highest price of INR 1,050.35 on May 10, 2024, and its lowest price of INR 376.35 on March 8, 2022.\n",
      "- The highest trading volume occurred on May 13, 2024, with 71,425,647 shares traded, while the lowest volume was on December 24, 2021, with 1,548,736 shares.\n",
      "\n",
      "**Technical Analysis:**\n",
      "- **Long-Term Trend (200-day Moving Average):** The 200-day moving average shows an overall upward trend, indicating that TML's stock price generally increased over the long term.\n",
      "- **Medium-Term Trend (50-day Moving Average):** The 50-day moving average also exhibits an upward trend, suggesting that the stock price increased over the medium term.\n",
      "- **Short-Term Trend (20-day Moving Average):** However, the 20-day moving average shows more fluctuations, with periods of increase and decrease, indicating short-term volatility.\n",
      "- **Support and Resistance:** Based on the data, key support levels can be identified at around INR 400 and INR 900, while resistance levels are observed at INR 1,000 and above.\n",
      "- **Chart Patterns:** The stock price chart reveals the presence of a \"W\" pattern, indicating a potential reversal of the downward trend and a possible bullish signal.\n",
      "- **Technical Indicators:**\n",
      "   - **Relative Strength Index (RSI):** The RSI values fluctuate between 30 and 70, indicating periods of overbought and oversold conditions. However, the overall trend seems to be upward, suggesting increasing buying pressure.\n",
      "   - **Moving Average Convergence Divergence (MACD):** The MACD line crosses above and below the signal line, indicating potential buy and sell signals. The overall trend of the MACD seems to follow the stock price movement.\n",
      "   - **Bollinger Bands:** The stock price tends to move within the Bollinger Bands, touching the upper and lower bands during periods of high volatility.\n",
      "\n",
      "**Fundamental Analysis:**\n",
      "- **Earnings Reports:** TML's earnings reports and financial performance could impact the stock price. However, a detailed analysis of the impact of specific reports is beyond the scope of this response.\n",
      "- **Valuation Metrics:** As of June 19, 2024, TML has a trailing twelve-month P/E ratio of 13.65 and a PEG ratio of 0.55. These metrics suggest that the stock may be undervalued relative to its earnings growth potential.\n",
      "\n",
      "**Sentiment Analysis:**\n",
      "- **Volume and Price Action:** The stock price movement and trading volume show a positive correlation, indicating that increased trading activity often coincides with rising stock prices.\n",
      "- **News and Social Media:** A review of recent news articles and social media discussions reveals mixed sentiments. Some investors express optimism about TML's electric vehicle plans and partnerships, while others are concerned about the company's financial health and the impact of economic conditions.\n",
      "\n",
      "**Investment Recommendation:**\n",
      "Based on the analysis, here are some potential investment strategies for TML's stock:\n",
      "- **Short-Term (Day Trading):** Given the stock's volatility, short-term traders can capitalize on intraday price fluctuations by employing strategies like scalping or momentum trading.\n",
      "- **Medium-Term (Swing Trading):** Swing traders can aim to benefit from short-term trends by entering trades that last a few days to a few weeks. They can use technical indicators like the RSI and MACD to identify potential entry and exit points.\n",
      "- **Long-Term (Position Trading):** For long-term investors, TML's stock could be a buy-and-hold opportunity, especially considering its potential undervaluation based on P/E and PEG ratios. However, due to the stock's volatility, a dollar-cost averaging strategy may be advisable to mitigate risk.\n",
      "\n",
      "**Additional Insights:**\n",
      "Tata Motors Limited is a well-known Indian automotive manufacturer. The company has been navigating the shift towards electric vehicles and has formed strategic partnerships. However, it faces intense competition and economic headwinds, which could impact its financial performance. Therefore, investors should closely monitor TML's financial health, industry trends, and market sentiment when making investment decisions.\n"
     ]
    }
   ],
   "source": [
    "print((a.content))"
   ]
  },
  {
   "cell_type": "code",
   "execution_count": 35,
   "id": "e5bfc01b-099c-4847-ad64-bbcce98a07f6",
   "metadata": {},
   "outputs": [],
   "source": [
    "@tool\n",
    "def predict(text: str) -> str:\n",
    "    \"\"\"\n",
    "    Returns the predicted value of the stock for next five days . This returns a string that contains predicted value \\\n",
    "    for stoch that has been calculated . Use this for any prediction queries and for any questions regarding stock price prediction \\\n",
    "    Do not use this if general stock queries are asked like current share price or previos share price . Prediction is only for future. \\\n",
    "    The input should always be an empty string\n",
    "    \"\"\"\n",
    "    return output_str"
   ]
  },
  {
   "cell_type": "code",
   "execution_count": 30,
   "id": "6ff4d11a-3610-4c8d-a222-ee49d7bdf234",
   "metadata": {},
   "outputs": [],
   "source": [
    "tools = load_tools([\"llm-math\",\"wikipedia\",\"google-serper\"], llm=llm,serper_api_key=\"04486f9140f33940904a2807b7b37aa00f45ea12\") #sample_api_key_INVALID(including previous commits)"
   ]
  },
  {
   "cell_type": "code",
   "execution_count": 31,
   "id": "7012b1eb-b3fb-4c3d-a0db-c92c55f43841",
   "metadata": {},
   "outputs": [],
   "source": [
    "agent= initialize_agent(\n",
    "    tools + [predict], \n",
    "    llm, \n",
    "    agent=AgentType.CHAT_ZERO_SHOT_REACT_DESCRIPTION,\n",
    "    handle_parsing_errors=True,\n",
    "    verbose = True)"
   ]
  },
  {
   "cell_type": "code",
   "execution_count": 33,
   "id": "4f8a426b-f92a-465c-a5b9-2bfa48aa22f4",
   "metadata": {},
   "outputs": [
    {
     "name": "stdout",
     "output_type": "stream",
     "text": [
      "\n",
      "\n",
      "\u001b[1m> Entering new AgentExecutor chain...\u001b[0m\n",
      "\u001b[32;1m\u001b[1;3mQuestion: What is the current share price of Zomato today?\n",
      "Thought: I will search for the current share price of Zomato.\n",
      "Action: ```json\n",
      "{\n",
      "  \"action\": \"google_serper\",\n",
      "  \"action_input\": \"current share price of zomato\"\n",
      "}\n",
      "```\u001b[0m\n",
      "Observation: \u001b[38;5;200m\u001b[1;3m193.90 -3.15 (1.60%)\u001b[0m\n",
      "Thought:\u001b[32;1m\u001b[1;3mFinal Answer: The current share price of Zomato is 193.90 INR.\u001b[0m\n",
      "\n",
      "\u001b[1m> Finished chain.\u001b[0m\n"
     ]
    },
    {
     "data": {
      "text/plain": [
       "{'input': 'What is the current share price of zomato today?',\n",
       " 'output': 'The current share price of Zomato is 193.90 INR.'}"
      ]
     },
     "execution_count": 33,
     "metadata": {},
     "output_type": "execute_result"
    }
   ],
   "source": [
    "agent(\"What is the current share price of zomato today?\")"
   ]
  },
  {
   "cell_type": "code",
   "execution_count": 34,
   "id": "303ce7c8-f9ea-4543-b9c4-777c3400ea47",
   "metadata": {},
   "outputs": [
    {
     "name": "stdout",
     "output_type": "stream",
     "text": [
      "\n",
      "\n",
      "\u001b[1m> Entering new AgentExecutor chain...\u001b[0m\n",
      "\u001b[32;1m\u001b[1;3mQuestion: Who was the previous CEO of Tata Motors?\n",
      "Thought: I will search for the previous CEO of Tata Motors.\n",
      "Action: ```json\n",
      "{\n",
      "  \"action\": \"google_serper\",\n",
      "  \"action_input\": \"previous ceo of tata motors\"\n",
      "}\n",
      "```\u001b[0m\n",
      "Observation: \u001b[38;5;200m\u001b[1;3mOn 17 January 2017, Natarajan Chandrasekaran was appointed chairman of the company Tata Group. ... Ex and Ex2; Tata 709 Ex; Tata 807 (Steel cabin chassis, cowl ... Guenter Karl Butschek (born 21 October 1960) is a German businessman and the current CEO and Managing Director of Indian automotive company Tata Motors. It's been over six months since Guenter Karl Butschek stepped down as chief executive officer and managing director of Tata Motors. Our leadership · Mr. Natarajan Chandrasekaran · Mr. O.P. Bhatt · Ms. Hanne Sorensen · Ms. Vedika Bhandarkar · Mr. Kosaraju Veerayya Chowdary · Mr. Al-Noor Ramji · Mrs. Former Tata Motors CEO Ravi Kant On The Merits Of Leading From The Back - Forbes India. Tata Motors Ltd said on Wednesday that Guenter Butschek will step down as the chief executive officer (CEO) and managing director of the car ... Mr Mistry was appointed as a Director of Tata Motors with effect from May 29,. 2012, and as Deputy Chairman of the. Company with effect from November 7,. This episode of The Core Report: Weekend Edition features a discussion with Ravi Kant, former ... Duration: 41:53. Posted: Apr 5, 2024. Girish Wagh, President-Commercial Vehicles, to take over as Executive Director, effective July 1 ... Tata Motors said its Chief Executive Officer ...\u001b[0m\n",
      "Thought:\u001b[32;1m\u001b[1;3mFinal Answer: The previous CEO of Tata Motors was Guenter Karl Butschek.\u001b[0m\n",
      "\n",
      "\u001b[1m> Finished chain.\u001b[0m\n"
     ]
    },
    {
     "data": {
      "text/plain": [
       "{'input': 'Who was previous ceo of tata motors .',\n",
       " 'output': 'The previous CEO of Tata Motors was Guenter Karl Butschek.'}"
      ]
     },
     "execution_count": 34,
     "metadata": {},
     "output_type": "execute_result"
    }
   ],
   "source": [
    "agent(\"Who was previous ceo of tata motors .\")"
   ]
  },
  {
   "cell_type": "code",
   "execution_count": 40,
   "id": "e6bd3705-b386-447e-8dae-bbfe5e52f507",
   "metadata": {},
   "outputs": [],
   "source": [
    "loader2 = CSVLoader(file_path=\"portfolio.csv\")"
   ]
  },
  {
   "cell_type": "code",
   "execution_count": 41,
   "id": "944761fd-e3b2-468e-b40b-32501332a8aa",
   "metadata": {},
   "outputs": [],
   "source": [
    "data2 = loader2.load()"
   ]
  },
  {
   "cell_type": "code",
   "execution_count": 42,
   "id": "51157738-6c16-4a07-a83f-3194238f57cf",
   "metadata": {},
   "outputs": [
    {
     "data": {
      "text/plain": [
       "[Document(page_content='Ticker: AAPL\\nCompany Name: Apple Inc.\\nShares Owned: 50\\nPurchase Price (USD): 150.00\\nCurrent Price (USD): 120.00\\nPurchase Date: 2022-01-15', metadata={'source': 'portfolio.csv', 'row': 0}),\n",
       " Document(page_content='Ticker: TSLA\\nCompany Name: Tesla Inc.\\nShares Owned: 30\\nPurchase Price (USD): 800.00\\nCurrent Price (USD): 600.00\\nPurchase Date: 2022-02-10', metadata={'source': 'portfolio.csv', 'row': 1}),\n",
       " Document(page_content='Ticker: AMZN\\nCompany Name: Amazon.com Inc.\\nShares Owned: 10\\nPurchase Price (USD): 3500.00\\nCurrent Price (USD): 3000.00\\nPurchase Date: 2022-03-01', metadata={'source': 'portfolio.csv', 'row': 2}),\n",
       " Document(page_content='Ticker: NFLX\\nCompany Name: Netflix Inc.\\nShares Owned: 40\\nPurchase Price (USD): 600.00\\nCurrent Price (USD): 400.00\\nPurchase Date: 2022-04-05', metadata={'source': 'portfolio.csv', 'row': 3}),\n",
       " Document(page_content='Ticker: GOOGL\\nCompany Name: Alphabet Inc.\\nShares Owned: 20\\nPurchase Price (USD): 2800.00\\nCurrent Price (USD): 2200.00\\nPurchase Date: 2022-05-15', metadata={'source': 'portfolio.csv', 'row': 4}),\n",
       " Document(page_content='Ticker: META\\nCompany Name: Meta Platforms Inc.\\nShares Owned: 25\\nPurchase Price (USD): 350.00\\nCurrent Price (USD): 250.00\\nPurchase Date: 2022-06-20', metadata={'source': 'portfolio.csv', 'row': 5}),\n",
       " Document(page_content='Ticker: NVDA\\nCompany Name: NVIDIA Corporation\\nShares Owned: 35\\nPurchase Price (USD): 300.00\\nCurrent Price (USD): 200.00\\nPurchase Date: 2022-07-30', metadata={'source': 'portfolio.csv', 'row': 6}),\n",
       " Document(page_content='Ticker: MSFT\\nCompany Name: Microsoft Corporation\\nShares Owned: 15\\nPurchase Price (USD): 320.00\\nCurrent Price (USD): 280.00\\nPurchase Date: 2022-08-25', metadata={'source': 'portfolio.csv', 'row': 7}),\n",
       " Document(page_content='Ticker: DIS\\nCompany Name: Walt Disney Co.\\nShares Owned: 50\\nPurchase Price (USD): 170.00\\nCurrent Price (USD): 130.00\\nPurchase Date: 2022-09-10', metadata={'source': 'portfolio.csv', 'row': 8}),\n",
       " Document(page_content='Ticker: BABA\\nCompany Name: Alibaba Group Holding Ltd.\\nShares Owned: 40\\nPurchase Price (USD): 200.00\\nCurrent Price (USD): 140.00\\nPurchase Date: 2022-10-01', metadata={'source': 'portfolio.csv', 'row': 9})]"
      ]
     },
     "execution_count": 42,
     "metadata": {},
     "output_type": "execute_result"
    }
   ],
   "source": [
    "data2"
   ]
  },
  {
   "cell_type": "code",
   "execution_count": 43,
   "id": "7b2040dd-f3b8-4bf6-9543-c52103fcb1db",
   "metadata": {},
   "outputs": [],
   "source": [
    "res = llm.invoke(f\"Consider this data that you have been provide . Your data (named data2) is this :  {data2} .Analyze his stock performance precisely .\")"
   ]
  },
  {
   "cell_type": "code",
   "execution_count": 44,
   "id": "e66beee9-a43d-45a1-bc88-1ffc54c6e9c8",
   "metadata": {},
   "outputs": [
    {
     "data": {
      "text/plain": [
       "\"Here is an analysis of the stock performance based on the provided data:\\n\\n- Apple Inc. (AAPL) - The stock is currently trading at $120.00, which is a decrease of $30.00 or 20% from the purchase price of $150.00 on January 15, 2022.\\n\\n- Tesla Inc. (TSLA) - TSLA shares are trading at $600.00 currently, a drop of $200.00 or 25% from the purchase price on February 10, 2022.\\n\\n- Amazon.com Inc. (AMZN) - The stock is currently valued at $3000.00 per share, a decrease of $500.00 or roughly 14.3% from its purchase price in early March 2022.\\n\\n- Netflix Inc. (NFLX) - NFLX shares have experienced a significant drop, currently trading at $400.00, which is 33.3% lower than the purchase price of $600.00 in early April 2022.\\n\\n- Alphabet Inc. (GOOGL) - GOOGL shares are trading at $2200.00, a decrease of $600.00 or 21.4% from the purchase price of $2800.00 in mid-May 2022.\\n\\n- Meta Platforms Inc. (META) - META shares have dropped to $250.00, a loss of $100.00 or 28.6% from the purchase price in late June 2022.\\n\\n- NVIDIA Corporation (NVDA) - NVDA shares are currently valued at $200.00, a significant drop of $100.00 or 33.3% from the purchase price of $300.00 at the end of July 2022.\\n\\n- Microsoft Corporation (MSFT) - MSFT stock is trading at $280.00, a decrease of $40.00 or 11.4% from the purchase price of $320.00 in August 2022.\\n\\n- Walt Disney Co. (DIS) - DIS shares are currently valued at $130.00, a drop of $40.00 or 23.5% from the purchase price of $170.00 in early September 2022.\\n\\n- Alibaba Group Holding Ltd. (BABA) - BABA stock is trading at $140.00, a decrease of $60.00 or 30% from the purchase price of $200.00 in early October 2022.\\n\\nOverall, the portfolio has experienced significant losses across the board, with all stocks trading below their respective purchase prices. The largest percentage decreases were seen in NFLX, NVDA, META, and BABA, while MSFT and AMZN saw relatively smaller declines. It's important to note that this analysis is based on a snapshot of data and doesn't consider the overall market conditions or any additional factors that may impact stock prices.\""
      ]
     },
     "execution_count": 44,
     "metadata": {},
     "output_type": "execute_result"
    }
   ],
   "source": [
    "res.content"
   ]
  },
  {
   "cell_type": "code",
   "execution_count": null,
   "id": "49957546-fae3-4767-af2e-5a9ee5e96924",
   "metadata": {},
   "outputs": [],
   "source": []
  }
 ],
 "metadata": {
  "kernelspec": {
   "display_name": "Python 3 (ipykernel)",
   "language": "python",
   "name": "python3"
  },
  "language_info": {
   "codemirror_mode": {
    "name": "ipython",
    "version": 3
   },
   "file_extension": ".py",
   "mimetype": "text/x-python",
   "name": "python",
   "nbconvert_exporter": "python",
   "pygments_lexer": "ipython3",
   "version": "3.12.2"
  }
 },
 "nbformat": 4,
 "nbformat_minor": 5
}
